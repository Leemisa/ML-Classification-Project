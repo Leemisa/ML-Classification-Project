{
 "cells": [
  {
   "cell_type": "code",
   "execution_count": null,
   "id": "b4140869",
   "metadata": {},
   "outputs": [
    {
     "name": "stdout",
     "output_type": "stream",
     "text": [
      "\n",
      "--- Full Data Preview ---\n",
      "                                                                                                                                                                                                                                                                                                             id;category;title;body;amenities;bathrooms;bedrooms;currency;fee;has_photo;pets_allowed;price;price_display;price_type;square_feet;address;cityname;state;latitude;longitude;source;time\n",
      "5668626895;housing/rent/apartment;Studio apartm... Uhland Terrace NE Washington                                        DC 20002;This unit is located at second St NE       Uhland Terrace NE                                  Washington  DC 20002  Washington                                         20002   DCMonthly rental rates range from $790 - $109...                                                                                                                                      \n",
      "5664597177;housing/rent/apartment;Studio apartm... Evansville        47712                                             INMonthly rental rates range from $425 - $445We... NaN                                                NaN         NaN       NaN                                                NaN                                                   NaN                                                                                                                                      \n",
      "5659918074;housing/rent/apartment;Studio apartm... Seattle           98122                                             WAMonthly rental rates range from $925We have s... NaN                                                NaN         NaN       NaN                                                NaN                                                   NaN                                                                                                                                      \n",
      "5668626759;housing/rent/apartment;Studio apartm... N Cleveland St    Arlington;This unit is located at Washington Blvd N Cleveland St                                      Arlington                                          Arlington   22201     VAMonthly rental rates range from $880We have ... NaN                                                   NaN                                                                                                                                      \n",
      "5668627426;housing/rent/apartment;Studio apartm... Venice            90291                                             CAMonthly rental rates range from $1800We have ... 800;Monthly;132;2432 Penmar Avenue;Venice;CA;33... NaN         NaN       NaN                                                NaN                                                   NaN                                                                                                                                      \n"
     ]
    },
    {
     "ename": "",
     "evalue": "",
     "output_type": "error",
     "traceback": [
      "\u001b[1;31mThe Kernel crashed while executing code in the current cell or a previous cell. \n",
      "\u001b[1;31mPlease review the code in the cell(s) to identify a possible cause of the failure. \n",
      "\u001b[1;31mClick <a href='https://aka.ms/vscodeJupyterKernelCrash'>here</a> for more info. \n",
      "\u001b[1;31mView Jupyter <a href='command:jupyter.viewOutput'>log</a> for further details."
     ]
    }
   ],
   "source": [
    "import pandas as pd\n",
    "\n",
    "# Use on_bad_lines='skip' to skip lines with too many fields\n",
    "df = pd.read_csv(r\"C:\\Users\\leemi\\OneDrive - North-West University\\Honours Resources\\School\\2025\\First Semester\\ITRI 616 (Artificial Inteligence)\\Assignment\\ML_ Classification Project\\ML-Classification-Project\\Dataset\\apartments_for_rent_classified_10K.csv\", encoding='ISO-8859-1', on_bad_lines='skip')\n",
    "\n",
    "# Show the first few rows of the full dataframe\n",
    "print(\"\\n--- Full Data Preview ---\")\n",
    "print(df.head())\n",
    "\n",
    "# # Separate features and target (adjust the target column name accordingly)\n",
    "# # Example: assuming the last column is the target\n",
    "# X = df.iloc[:, :-1]  # All columns except the last\n",
    "# y = df.iloc[:, -1]   # Last column (assumed target)\n",
    "\n",
    "# # Display features and target previews\n",
    "# print(\"\\n--- Features (X) Preview ---\")\n",
    "# print(X.head())\n",
    "\n",
    "# print(\"\\n--- Target (y) Preview ---\")\n",
    "# print(y.head())\n",
    "\n",
    "# # Show \"metadata\" style info\n",
    "# print(\"\\n--- Metadata ---\")\n",
    "# print(f\"Number of samples: {df.shape[0]}\")\n",
    "# print(f\"Number of features: {X.shape[1]}\")\n",
    "# print(f\"Target column: {df.columns[-1]}\")\n",
    "\n",
    "# # Show variable information\n",
    "# print(\"\\n--- Variable Information ---\")\n",
    "# print(df.dtypes)\n"
   ]
  }
 ],
 "metadata": {
  "kernelspec": {
   "display_name": "Python 3",
   "language": "python",
   "name": "python3"
  },
  "language_info": {
   "codemirror_mode": {
    "name": "ipython",
    "version": 3
   },
   "file_extension": ".py",
   "mimetype": "text/x-python",
   "name": "python",
   "nbconvert_exporter": "python",
   "pygments_lexer": "ipython3",
   "version": "3.13.3"
  }
 },
 "nbformat": 4,
 "nbformat_minor": 5
}
